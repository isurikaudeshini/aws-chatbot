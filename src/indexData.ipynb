{
 "cells": [
  {
   "cell_type": "code",
   "execution_count": 2,
   "metadata": {},
   "outputs": [],
   "source": [
    "from elasticsearch import Elasticsearch"
   ]
  },
  {
   "cell_type": "code",
   "execution_count": 3,
   "metadata": {},
   "outputs": [
    {
     "data": {
      "text/plain": [
       "False"
      ]
     },
     "execution_count": 3,
     "metadata": {},
     "output_type": "execute_result"
    }
   ],
   "source": [
    "es = Elasticsearch(\n",
    "    \"https://localhost:9200\",\n",
    "    basic_auth=(\"elastic\",\"3TgCUfRLY3o7BXKYpWFs\"),\n",
    "    ca_certs=\"/home/isurika/downloads/elasticsearch-8.12.0/config/certs/http_ca.crt\"\n",
    ")\n",
    "es.ping()"
   ]
  },
  {
   "cell_type": "markdown",
   "metadata": {},
   "source": [
    "### Prepare the data"
   ]
  },
  {
   "cell_type": "code",
   "execution_count": 3,
   "metadata": {},
   "outputs": [
    {
     "data": {
      "text/html": [
       "<div>\n",
       "<style scoped>\n",
       "    .dataframe tbody tr th:only-of-type {\n",
       "        vertical-align: middle;\n",
       "    }\n",
       "\n",
       "    .dataframe tbody tr th {\n",
       "        vertical-align: top;\n",
       "    }\n",
       "\n",
       "    .dataframe thead th {\n",
       "        text-align: right;\n",
       "    }\n",
       "</style>\n",
       "<table border=\"1\" class=\"dataframe\">\n",
       "  <thead>\n",
       "    <tr style=\"text-align: right;\">\n",
       "      <th></th>\n",
       "      <th>id</th>\n",
       "      <th>pattern</th>\n",
       "      <th>response</th>\n",
       "    </tr>\n",
       "  </thead>\n",
       "  <tbody>\n",
       "    <tr>\n",
       "      <th>0</th>\n",
       "      <td>1</td>\n",
       "      <td>How can I run a web server on AWS?</td>\n",
       "      <td>To run a web server on AWS, you can use Amazon...</td>\n",
       "    </tr>\n",
       "    <tr>\n",
       "      <th>1</th>\n",
       "      <td>2</td>\n",
       "      <td>What AWS service should I use to host a scalab...</td>\n",
       "      <td>For hosting scalable applications, consider us...</td>\n",
       "    </tr>\n",
       "    <tr>\n",
       "      <th>2</th>\n",
       "      <td>3</td>\n",
       "      <td>How do I deploy a custom application on the cl...</td>\n",
       "      <td>To deploy a custom application, use Amazon EC2...</td>\n",
       "    </tr>\n",
       "    <tr>\n",
       "      <th>3</th>\n",
       "      <td>4</td>\n",
       "      <td>I need a dedicated environment for my applicat...</td>\n",
       "      <td>If you need dedicated resources for your appli...</td>\n",
       "    </tr>\n",
       "    <tr>\n",
       "      <th>4</th>\n",
       "      <td>5</td>\n",
       "      <td>What's the best way to get started with virtua...</td>\n",
       "      <td>Start with Amazon EC2. It offers a wide range ...</td>\n",
       "    </tr>\n",
       "  </tbody>\n",
       "</table>\n",
       "</div>"
      ],
      "text/plain": [
       "   id                                            pattern  \\\n",
       "0   1                 How can I run a web server on AWS?   \n",
       "1   2  What AWS service should I use to host a scalab...   \n",
       "2   3  How do I deploy a custom application on the cl...   \n",
       "3   4  I need a dedicated environment for my applicat...   \n",
       "4   5  What's the best way to get started with virtua...   \n",
       "\n",
       "                                            response  \n",
       "0  To run a web server on AWS, you can use Amazon...  \n",
       "1  For hosting scalable applications, consider us...  \n",
       "2  To deploy a custom application, use Amazon EC2...  \n",
       "3  If you need dedicated resources for your appli...  \n",
       "4  Start with Amazon EC2. It offers a wide range ...  "
      ]
     },
     "execution_count": 3,
     "metadata": {},
     "output_type": "execute_result"
    }
   ],
   "source": [
    "import pandas as pd\n",
    "\n",
    "df = pd.read_csv(\"/mnt/d/University/repos/aws-chatbot/dataset/consolidated_data.csv\").loc[:1500]\n",
    "df.head()"
   ]
  },
  {
   "cell_type": "markdown",
   "metadata": {},
   "source": [
    "#### Check NA values\n"
   ]
  },
  {
   "cell_type": "code",
   "execution_count": 4,
   "metadata": {},
   "outputs": [
    {
     "data": {
      "text/plain": [
       "id     pattern  response\n",
       "False  False    False       585\n",
       "Name: count, dtype: int64"
      ]
     },
     "execution_count": 4,
     "metadata": {},
     "output_type": "execute_result"
    }
   ],
   "source": [
    "df.isna().value_counts()"
   ]
  },
  {
   "cell_type": "code",
   "execution_count": 5,
   "metadata": {},
   "outputs": [],
   "source": [
    "df.fillna(\"None\", inplace=True)"
   ]
  },
  {
   "cell_type": "markdown",
   "metadata": {},
   "source": [
    "### Convert the relevant field to Vector using BERT model"
   ]
  },
  {
   "cell_type": "code",
   "execution_count": 6,
   "metadata": {},
   "outputs": [],
   "source": [
    "from sentence_transformers import SentenceTransformer\n",
    "model = SentenceTransformer('all-mpnet-base-v2')"
   ]
  },
  {
   "cell_type": "code",
   "execution_count": 8,
   "metadata": {},
   "outputs": [],
   "source": [
    "df[\"DescriptionVector\"] = df[\"response\"].apply(lambda x: model.encode(x))"
   ]
  },
  {
   "cell_type": "code",
   "execution_count": 9,
   "metadata": {},
   "outputs": [
    {
     "data": {
      "text/html": [
       "<div>\n",
       "<style scoped>\n",
       "    .dataframe tbody tr th:only-of-type {\n",
       "        vertical-align: middle;\n",
       "    }\n",
       "\n",
       "    .dataframe tbody tr th {\n",
       "        vertical-align: top;\n",
       "    }\n",
       "\n",
       "    .dataframe thead th {\n",
       "        text-align: right;\n",
       "    }\n",
       "</style>\n",
       "<table border=\"1\" class=\"dataframe\">\n",
       "  <thead>\n",
       "    <tr style=\"text-align: right;\">\n",
       "      <th></th>\n",
       "      <th>id</th>\n",
       "      <th>pattern</th>\n",
       "      <th>response</th>\n",
       "      <th>DescriptionVector</th>\n",
       "    </tr>\n",
       "  </thead>\n",
       "  <tbody>\n",
       "    <tr>\n",
       "      <th>0</th>\n",
       "      <td>1</td>\n",
       "      <td>How can I run a web server on AWS?</td>\n",
       "      <td>To run a web server on AWS, you can use Amazon...</td>\n",
       "      <td>[-0.00054931047, -0.05692641, -0.0006814774, 0...</td>\n",
       "    </tr>\n",
       "    <tr>\n",
       "      <th>1</th>\n",
       "      <td>2</td>\n",
       "      <td>What AWS service should I use to host a scalab...</td>\n",
       "      <td>For hosting scalable applications, consider us...</td>\n",
       "      <td>[-0.015269826, -0.012294186, -0.01100238, -0.0...</td>\n",
       "    </tr>\n",
       "    <tr>\n",
       "      <th>2</th>\n",
       "      <td>3</td>\n",
       "      <td>How do I deploy a custom application on the cl...</td>\n",
       "      <td>To deploy a custom application, use Amazon EC2...</td>\n",
       "      <td>[-0.012933653, -0.045452587, -0.0068273027, -0...</td>\n",
       "    </tr>\n",
       "    <tr>\n",
       "      <th>3</th>\n",
       "      <td>4</td>\n",
       "      <td>I need a dedicated environment for my applicat...</td>\n",
       "      <td>If you need dedicated resources for your appli...</td>\n",
       "      <td>[-0.009388072, -0.018510194, 0.0007667323, 0.0...</td>\n",
       "    </tr>\n",
       "    <tr>\n",
       "      <th>4</th>\n",
       "      <td>5</td>\n",
       "      <td>What's the best way to get started with virtua...</td>\n",
       "      <td>Start with Amazon EC2. It offers a wide range ...</td>\n",
       "      <td>[-0.059143938, -0.017358141, -0.0022847152, -0...</td>\n",
       "    </tr>\n",
       "  </tbody>\n",
       "</table>\n",
       "</div>"
      ],
      "text/plain": [
       "   id                                            pattern  \\\n",
       "0   1                 How can I run a web server on AWS?   \n",
       "1   2  What AWS service should I use to host a scalab...   \n",
       "2   3  How do I deploy a custom application on the cl...   \n",
       "3   4  I need a dedicated environment for my applicat...   \n",
       "4   5  What's the best way to get started with virtua...   \n",
       "\n",
       "                                            response  \\\n",
       "0  To run a web server on AWS, you can use Amazon...   \n",
       "1  For hosting scalable applications, consider us...   \n",
       "2  To deploy a custom application, use Amazon EC2...   \n",
       "3  If you need dedicated resources for your appli...   \n",
       "4  Start with Amazon EC2. It offers a wide range ...   \n",
       "\n",
       "                                   DescriptionVector  \n",
       "0  [-0.00054931047, -0.05692641, -0.0006814774, 0...  \n",
       "1  [-0.015269826, -0.012294186, -0.01100238, -0.0...  \n",
       "2  [-0.012933653, -0.045452587, -0.0068273027, -0...  \n",
       "3  [-0.009388072, -0.018510194, 0.0007667323, 0.0...  \n",
       "4  [-0.059143938, -0.017358141, -0.0022847152, -0...  "
      ]
     },
     "execution_count": 9,
     "metadata": {},
     "output_type": "execute_result"
    }
   ],
   "source": [
    "df.head()"
   ]
  },
  {
   "cell_type": "code",
   "execution_count": 10,
   "metadata": {},
   "outputs": [
    {
     "data": {
      "text/plain": [
       "True"
      ]
     },
     "execution_count": 10,
     "metadata": {},
     "output_type": "execute_result"
    }
   ],
   "source": [
    "es.ping()"
   ]
  },
  {
   "cell_type": "markdown",
   "metadata": {},
   "source": [
    "### Create new index in ElasticSearch"
   ]
  },
  {
   "cell_type": "code",
   "execution_count": 11,
   "metadata": {},
   "outputs": [],
   "source": [
    "from indexMapping import indexMapping\n",
    "\n",
    "try:\n",
    "    es.indices.create(index=\"all_patterns_v1\", mappings=indexMapping) \n",
    "except Exception as e:\n",
    "    pass"
   ]
  },
  {
   "cell_type": "markdown",
   "metadata": {},
   "source": [
    "### Ingest the data into index"
   ]
  },
  {
   "cell_type": "code",
   "execution_count": 12,
   "metadata": {},
   "outputs": [],
   "source": [
    "record_list = df.to_dict(\"records\")"
   ]
  },
  {
   "cell_type": "code",
   "execution_count": 13,
   "metadata": {},
   "outputs": [],
   "source": [
    "for record in record_list:\n",
    "    try:\n",
    "        es.index(index=\"all_patterns_1500\", document=record, id=record[\"id\"])\n",
    "    except Exception as e:\n",
    "        print(e)"
   ]
  },
  {
   "cell_type": "code",
   "execution_count": 14,
   "metadata": {},
   "outputs": [
    {
     "data": {
      "text/plain": [
       "ObjectApiResponse({'count': 585, '_shards': {'total': 1, 'successful': 1, 'skipped': 0, 'failed': 0}})"
      ]
     },
     "execution_count": 14,
     "metadata": {},
     "output_type": "execute_result"
    }
   ],
   "source": [
    "es.count(index=\"all_patterns_1500\")"
   ]
  },
  {
   "cell_type": "markdown",
   "metadata": {},
   "source": [
    "### Search the data"
   ]
  },
  {
   "cell_type": "code",
   "execution_count": 1,
   "metadata": {},
   "outputs": [
    {
     "ename": "NameError",
     "evalue": "name 'model' is not defined",
     "output_type": "error",
     "traceback": [
      "\u001b[0;31m---------------------------------------------------------------------------\u001b[0m",
      "\u001b[0;31mNameError\u001b[0m                                 Traceback (most recent call last)",
      "Cell \u001b[0;32mIn[1], line 2\u001b[0m\n\u001b[1;32m      1\u001b[0m input_keyword \u001b[38;5;241m=\u001b[39m \u001b[38;5;124m\"\u001b[39m\u001b[38;5;124m Billing of Amazon EC2 systems begin and end?\u001b[39m\u001b[38;5;124m\"\u001b[39m\n\u001b[0;32m----> 2\u001b[0m vector_of_input_keyword \u001b[38;5;241m=\u001b[39m \u001b[43mmodel\u001b[49m\u001b[38;5;241m.\u001b[39mencode(input_keyword)\n\u001b[1;32m      4\u001b[0m query \u001b[38;5;241m=\u001b[39m {\n\u001b[1;32m      5\u001b[0m     \u001b[38;5;124m\"\u001b[39m\u001b[38;5;124mfield\u001b[39m\u001b[38;5;124m\"\u001b[39m: \u001b[38;5;124m\"\u001b[39m\u001b[38;5;124mDescriptionVector\u001b[39m\u001b[38;5;124m\"\u001b[39m,\n\u001b[1;32m      6\u001b[0m     \u001b[38;5;124m\"\u001b[39m\u001b[38;5;124mquery_vector\u001b[39m\u001b[38;5;124m\"\u001b[39m: vector_of_input_keyword,\n\u001b[1;32m      7\u001b[0m     \u001b[38;5;124m\"\u001b[39m\u001b[38;5;124mk\u001b[39m\u001b[38;5;124m\"\u001b[39m: \u001b[38;5;241m2\u001b[39m,  \u001b[38;5;66;03m# Set k to 1 to get only the top result\u001b[39;00m\n\u001b[1;32m      8\u001b[0m     \u001b[38;5;124m\"\u001b[39m\u001b[38;5;124mnum_candidates\u001b[39m\u001b[38;5;124m\"\u001b[39m: \u001b[38;5;241m1500\u001b[39m,\n\u001b[1;32m      9\u001b[0m }\n\u001b[1;32m     11\u001b[0m res \u001b[38;5;241m=\u001b[39m es\u001b[38;5;241m.\u001b[39mknn_search(index\u001b[38;5;241m=\u001b[39m\u001b[38;5;124m\"\u001b[39m\u001b[38;5;124mall_patterns_1500\u001b[39m\u001b[38;5;124m\"\u001b[39m, knn\u001b[38;5;241m=\u001b[39mquery, source\u001b[38;5;241m=\u001b[39m[\u001b[38;5;124m\"\u001b[39m\u001b[38;5;124mpattern\u001b[39m\u001b[38;5;124m\"\u001b[39m, \u001b[38;5;124m\"\u001b[39m\u001b[38;5;124mresponse\u001b[39m\u001b[38;5;124m\"\u001b[39m])\n",
      "\u001b[0;31mNameError\u001b[0m: name 'model' is not defined"
     ]
    }
   ],
   "source": [
    "input_keyword = \" Billing of Amazon EC2 systems begin and end?\"\n",
    "vector_of_input_keyword = model.encode(input_keyword)\n",
    "\n",
    "query = {\n",
    "    \"field\": \"DescriptionVector\",\n",
    "    \"query_vector\": vector_of_input_keyword,\n",
    "    \"k\": 1,  # Set k to 1 to get only the top result\n",
    "    \"num_candidates\": 1500,\n",
    "}\n",
    "\n",
    "res = es.knn_search(index=\"all_patterns_1500\", knn=query, source=[\"pattern\", \"response\"])\n",
    "hits = res[\"hits\"][\"hits\"]\n",
    "\n",
    "\n",
    "if hits:\n",
    "    best_match = hits[0]\n",
    "    print(\"Best Matching Result:\")\n",
    "    print(\"Pattern:\", best_match[\"_source\"][\"pattern\"])\n",
    "    print(\"Response:\", best_match[\"_source\"][\"response\"])\n",
    "else:\n",
    "    print(\"No matching results found.\")\n"
   ]
  },
  {
   "cell_type": "code",
   "execution_count": null,
   "metadata": {},
   "outputs": [],
   "source": []
  }
 ],
 "metadata": {
  "kernelspec": {
   "display_name": "venv",
   "language": "python",
   "name": "python3"
  },
  "language_info": {
   "codemirror_mode": {
    "name": "ipython",
    "version": 3
   },
   "file_extension": ".py",
   "mimetype": "text/x-python",
   "name": "python",
   "nbconvert_exporter": "python",
   "pygments_lexer": "ipython3",
   "version": "3.10.12"
  },
  "orig_nbformat": 4
 },
 "nbformat": 4,
 "nbformat_minor": 2
}
